{
 "cells": [
  {
   "cell_type": "code",
   "execution_count": 2,
   "metadata": {
    "collapsed": true
   },
   "outputs": [],
   "source": [
    "import twitter_pb2\n",
    "file = open('twitter.pb','rb') \n",
    "twitter = twitter_pb2.Tweets()\n",
    "twitter.ParseFromString(file.read())\n",
    "file.close()"
   ]
  },
  {
   "cell_type": "code",
   "execution_count": 3,
   "metadata": {},
   "outputs": [
    {
     "data": {
      "text/plain": [
       "1554"
      ]
     },
     "execution_count": 3,
     "metadata": {},
     "output_type": "execute_result"
    }
   ],
   "source": [
    "total_delete =0 \n",
    "for i in twitter.tweets:\n",
    "    if i.is_delete:\n",
    "        total_delete +=1\n",
    "total_delete"
   ]
  },
  {
   "cell_type": "code",
   "execution_count": 4,
   "metadata": {},
   "outputs": [
    {
     "data": {
      "text/plain": [
       "2531"
      ]
     },
     "execution_count": 4,
     "metadata": {},
     "output_type": "execute_result"
    }
   ],
   "source": [
    "total_reply=0\n",
    "for i in twitter.tweets:\n",
    "    if i.insert.HasField('reply_to'):\n",
    "        total_reply+=1\n",
    "total_reply"
   ]
  },
  {
   "cell_type": "code",
   "execution_count": 5,
   "metadata": {
    "collapsed": true
   },
   "outputs": [],
   "source": [
    "twitter_dict ={}\n",
    "for i in twitter.tweets:\n",
    "    uid = i.insert.uid\n",
    "    if  uid!=0:\n",
    "        if uid in twitter_dict.keys():\n",
    "            twitter_dict[uid]+=1\n",
    "        else:\n",
    "            twitter_dict[uid] = 1"
   ]
  },
  {
   "cell_type": "code",
   "execution_count": 6,
   "metadata": {},
   "outputs": [
    {
     "data": {
      "text/plain": [
       "[(1269521828L, 5),\n",
       " (392695315L, 4),\n",
       " (424808364L, 3),\n",
       " (1706901902L, 3),\n",
       " (1471774728L, 2),\n",
       " (307200048L, 2),\n",
       " (287998296L, 2),\n",
       " (1709539915L, 2),\n",
       " (1061880409L, 2),\n",
       " (321272366L, 2)]"
      ]
     },
     "execution_count": 6,
     "metadata": {},
     "output_type": "execute_result"
    }
   ],
   "source": [
    "sorted(twitter_dict.items(), key=lambda x: x[1], reverse = True)[0:10]"
   ]
  },
  {
   "cell_type": "markdown",
   "metadata": {},
   "source": [
    "Since we need the top 5 user IDs, the top 4 have 5, 4 and 3 tweets, so we need to get all ID that has 2 tweets."
   ]
  },
  {
   "cell_type": "code",
   "execution_count": 15,
   "metadata": {},
   "outputs": [
    {
     "data": {
      "text/plain": [
       "[(1269521828L, 5), (392695315L, 4), (424808364L, 3), (1706901902L, 3)]"
      ]
     },
     "execution_count": 15,
     "metadata": {},
     "output_type": "execute_result"
    }
   ],
   "source": [
    "sorted(twitter_dict.items(),  key=lambda x: x[1], reverse = True)[0:4]"
   ]
  },
  {
   "cell_type": "markdown",
   "metadata": {},
   "source": [
    "Note: the 'L' is not a part of uid, just to show the tyoe is long, can be removed by int(）"
   ]
  },
  {
   "cell_type": "code",
   "execution_count": 8,
   "metadata": {},
   "outputs": [
    {
     "name": "stdout",
     "output_type": "stream",
     "text": [
      "These are the tied result for the 5th, which all have 2 tweets:\n",
      "1471774728\n",
      "307200048\n",
      "287998296\n",
      "1709539915\n",
      "1061880409\n",
      "321272366\n",
      "94602273\n",
      "98305691\n",
      "1041827630\n",
      "1104415878\n",
      "872779004\n",
      "541986079\n",
      "1029475741\n",
      "341642661\n",
      "952405676\n",
      "420450712\n",
      "92180950\n",
      "427725354\n",
      "145396534\n",
      "138810318\n",
      "1376753162\n",
      "23991910\n",
      "1099568754\n",
      "704648882\n",
      "1328551723\n",
      "1502779273\n",
      "1060313161\n",
      "505682277\n",
      "382802288\n",
      "622565785\n",
      "1647166548\n",
      "602315426\n",
      "1036754137\n",
      "1331896412\n",
      "1245356214\n",
      "143139019\n",
      "164078000\n",
      "1683269047\n",
      "598156770\n",
      "1666033717\n",
      "1711122840\n",
      "537995758\n",
      "1522510418\n",
      "580168376\n",
      "576269546\n",
      "518106475\n",
      "1024307778\n",
      "1687608595\n",
      "1256828702\n",
      "1369322330\n",
      "734901595\n",
      "911882300\n",
      "1478146758\n",
      "1680161065\n",
      "187480462\n",
      "763935938\n",
      "584531152\n",
      "1160199823\n",
      "783236917\n",
      "1652834515\n",
      "1047052746\n",
      "367509970\n",
      "309609120\n",
      "505758614\n",
      "331498470\n",
      "623610792\n",
      "1522026025\n",
      "306890298\n",
      "1279674000\n",
      "1147356985\n",
      "229772286\n",
      "1150831136\n",
      "26004763\n",
      "328360566\n",
      "313282304\n",
      "1641369774\n",
      "1660276945\n",
      "578015986\n",
      "1580127176\n",
      "371086755\n",
      "430536989\n",
      "49895823\n",
      "282024434\n",
      "599808701\n",
      "228580873\n",
      "1068555799\n",
      "414244660\n",
      "1645698882\n",
      "1644945380\n",
      "453632752\n",
      "1607263058\n",
      "41444199\n",
      "968877512\n",
      "1685514120\n",
      "612329382\n",
      "610494485\n",
      "305195416\n",
      "449931901\n",
      "402746633\n",
      "509013419\n",
      "93318637\n",
      "205910415\n",
      "1050276439\n",
      "490861349\n",
      "1452733573\n",
      "433518230\n",
      "1510733773\n",
      "1536162078\n",
      "1705900322\n",
      "315030000\n",
      "473004984\n",
      "147487691\n",
      "1697709384\n",
      "364117533\n",
      "484048475\n",
      "320700067\n",
      "1117978476\n"
     ]
    }
   ],
   "source": [
    "print \"These are the tied result for the 5th, which all have 2 tweets:\"\n",
    "for i in twitter_dict:\n",
    "    if twitter_dict[i]==2:\n",
    "        print i"
   ]
  }
 ],
 "metadata": {
  "kernelspec": {
   "display_name": "Python 2",
   "language": "python",
   "name": "python2"
  },
  "language_info": {
   "codemirror_mode": {
    "name": "ipython",
    "version": 2
   },
   "file_extension": ".py",
   "mimetype": "text/x-python",
   "name": "python",
   "nbconvert_exporter": "python",
   "pygments_lexer": "ipython2",
   "version": "2.7.14"
  }
 },
 "nbformat": 4,
 "nbformat_minor": 2
}
